{
  "nbformat": 4,
  "nbformat_minor": 0,
  "metadata": {
    "colab": {
      "name": "COVID-19_VGG.ipynb",
      "provenance": [],
      "collapsed_sections": [],
      "toc_visible": true
    },
    "kernelspec": {
      "name": "python3",
      "display_name": "Python 3"
    },
    "accelerator": "GPU"
  },
  "cells": [
    {
      "cell_type": "code",
      "metadata": {
        "id": "dT6Ajje4YPL5",
        "colab_type": "code",
        "colab": {
          "base_uri": "https://localhost:8080/",
          "height": 1000
        },
        "outputId": "eb763a12-4c4e-4bf8-dda5-218d5e60b456"
      },
      "source": [
        "from keras.layers import Input, Lambda, Dense, Flatten\n",
        "from keras.models import Model\n",
        "from keras.applications.vgg16 import VGG16\n",
        "from keras.applications.vgg16 import preprocess_input\n",
        "from keras.preprocessing import image\n",
        "from keras.preprocessing.image import ImageDataGenerator\n",
        "from keras.models import Sequential\n",
        "import numpy as np\n",
        "from glob import glob\n",
        "import matplotlib.pyplot as plt\n",
        "\n",
        "# re-size all the images to this\n",
        "IMAGE_SIZE = [224, 224]\n",
        "\n",
        "train_path = '/content/drive/My Drive/DataSets/Train'\n",
        "valid_path = '/content/drive/My Drive/DataSets/Test'\n",
        "\n",
        "# add preprocessing layer to the front of VGG\n",
        "vgg = VGG16(input_shape=IMAGE_SIZE + [3], weights='imagenet', include_top=False)\n",
        "\n",
        "# don't train existing weights\n",
        "for layer in vgg.layers:\n",
        "  layer.trainable = False\n",
        "  \n",
        "\n",
        "# our layers - you can add more if you want\n",
        "x = Flatten()(vgg.output)\n",
        "# x = Dense(1000, activation='relu')(x)\n",
        "prediction = Dense(2, activation='softmax')(x)\n",
        "\n",
        "# create a model object\n",
        "model = Model(inputs=vgg.input, outputs=prediction)\n",
        "\n",
        "# view the structure of the model\n",
        "model.summary()\n",
        "\n",
        "# tell the model what cost and optimization method to use\n",
        "model.compile(\n",
        "  loss='categorical_crossentropy',\n",
        "  optimizer='adam',\n",
        "  metrics=['accuracy']\n",
        ")\n",
        "\n",
        "\n",
        "from keras.preprocessing.image import ImageDataGenerator\n",
        "\n",
        "train_datagen = ImageDataGenerator(rescale = 1./255,\n",
        "                                   zoom_range = 0.2,\n",
        "                                   horizontal_flip = True)\n",
        "\n",
        "test_datagen = ImageDataGenerator(rescale = 1./255)\n",
        "\n",
        "training_set = train_datagen.flow_from_directory('/content/drive/My Drive/DataSets/Train',\n",
        "                                                 target_size = (224, 224),\n",
        "                                                 batch_size = 32,\n",
        "                                                 class_mode = 'categorical')\n",
        "\n",
        "test_set = test_datagen.flow_from_directory('/content/drive/My Drive/DataSets/Test',\n",
        "                                            target_size = (224, 224),\n",
        "                                            batch_size = 32,\n",
        "                                            class_mode = 'categorical')\n",
        "\n",
        "\n",
        "# fit the model\n",
        "r = model.fit_generator(\n",
        "  training_set,\n",
        "  validation_data=test_set,\n",
        "  epochs=20,\n",
        "  steps_per_epoch=len(training_set),\n",
        "  validation_steps=len(test_set)\n",
        ")"
      ],
      "execution_count": null,
      "outputs": [
        {
          "output_type": "stream",
          "text": [
            "Downloading data from https://storage.googleapis.com/tensorflow/keras-applications/vgg16/vgg16_weights_tf_dim_ordering_tf_kernels_notop.h5\n",
            "58892288/58889256 [==============================] - 0s 0us/step\n",
            "Model: \"functional_1\"\n",
            "_________________________________________________________________\n",
            "Layer (type)                 Output Shape              Param #   \n",
            "=================================================================\n",
            "input_1 (InputLayer)         [(None, 224, 224, 3)]     0         \n",
            "_________________________________________________________________\n",
            "block1_conv1 (Conv2D)        (None, 224, 224, 64)      1792      \n",
            "_________________________________________________________________\n",
            "block1_conv2 (Conv2D)        (None, 224, 224, 64)      36928     \n",
            "_________________________________________________________________\n",
            "block1_pool (MaxPooling2D)   (None, 112, 112, 64)      0         \n",
            "_________________________________________________________________\n",
            "block2_conv1 (Conv2D)        (None, 112, 112, 128)     73856     \n",
            "_________________________________________________________________\n",
            "block2_conv2 (Conv2D)        (None, 112, 112, 128)     147584    \n",
            "_________________________________________________________________\n",
            "block2_pool (MaxPooling2D)   (None, 56, 56, 128)       0         \n",
            "_________________________________________________________________\n",
            "block3_conv1 (Conv2D)        (None, 56, 56, 256)       295168    \n",
            "_________________________________________________________________\n",
            "block3_conv2 (Conv2D)        (None, 56, 56, 256)       590080    \n",
            "_________________________________________________________________\n",
            "block3_conv3 (Conv2D)        (None, 56, 56, 256)       590080    \n",
            "_________________________________________________________________\n",
            "block3_pool (MaxPooling2D)   (None, 28, 28, 256)       0         \n",
            "_________________________________________________________________\n",
            "block4_conv1 (Conv2D)        (None, 28, 28, 512)       1180160   \n",
            "_________________________________________________________________\n",
            "block4_conv2 (Conv2D)        (None, 28, 28, 512)       2359808   \n",
            "_________________________________________________________________\n",
            "block4_conv3 (Conv2D)        (None, 28, 28, 512)       2359808   \n",
            "_________________________________________________________________\n",
            "block4_pool (MaxPooling2D)   (None, 14, 14, 512)       0         \n",
            "_________________________________________________________________\n",
            "block5_conv1 (Conv2D)        (None, 14, 14, 512)       2359808   \n",
            "_________________________________________________________________\n",
            "block5_conv2 (Conv2D)        (None, 14, 14, 512)       2359808   \n",
            "_________________________________________________________________\n",
            "block5_conv3 (Conv2D)        (None, 14, 14, 512)       2359808   \n",
            "_________________________________________________________________\n",
            "block5_pool (MaxPooling2D)   (None, 7, 7, 512)         0         \n",
            "_________________________________________________________________\n",
            "flatten (Flatten)            (None, 25088)             0         \n",
            "_________________________________________________________________\n",
            "dense (Dense)                (None, 2)                 50178     \n",
            "=================================================================\n",
            "Total params: 14,764,866\n",
            "Trainable params: 50,178\n",
            "Non-trainable params: 14,714,688\n",
            "_________________________________________________________________\n",
            "Found 598 images belonging to 2 classes.\n",
            "Found 84 images belonging to 2 classes.\n",
            "WARNING:tensorflow:From <ipython-input-1-fc4bb32a61d1>:70: Model.fit_generator (from tensorflow.python.keras.engine.training) is deprecated and will be removed in a future version.\n",
            "Instructions for updating:\n",
            "Please use Model.fit, which supports generators.\n",
            "Epoch 1/20\n",
            "19/19 [==============================] - 317s 17s/step - loss: 0.8848 - accuracy: 0.7559 - val_loss: 0.2049 - val_accuracy: 0.9167\n",
            "Epoch 2/20\n",
            "19/19 [==============================] - 32s 2s/step - loss: 0.4064 - accuracy: 0.8679 - val_loss: 0.0492 - val_accuracy: 1.0000\n",
            "Epoch 3/20\n",
            "19/19 [==============================] - 32s 2s/step - loss: 0.3319 - accuracy: 0.9013 - val_loss: 0.2004 - val_accuracy: 0.9286\n",
            "Epoch 4/20\n",
            "19/19 [==============================] - 32s 2s/step - loss: 0.3253 - accuracy: 0.8880 - val_loss: 0.1260 - val_accuracy: 1.0000\n",
            "Epoch 5/20\n",
            "19/19 [==============================] - 32s 2s/step - loss: 0.2742 - accuracy: 0.8980 - val_loss: 0.0599 - val_accuracy: 1.0000\n",
            "Epoch 6/20\n",
            "19/19 [==============================] - 32s 2s/step - loss: 0.2945 - accuracy: 0.9013 - val_loss: 0.0880 - val_accuracy: 0.9881\n",
            "Epoch 7/20\n",
            "19/19 [==============================] - 33s 2s/step - loss: 0.3067 - accuracy: 0.8896 - val_loss: 0.1400 - val_accuracy: 0.9524\n",
            "Epoch 8/20\n",
            "19/19 [==============================] - 33s 2s/step - loss: 0.3179 - accuracy: 0.8963 - val_loss: 0.1128 - val_accuracy: 0.9881\n",
            "Epoch 9/20\n",
            "19/19 [==============================] - 32s 2s/step - loss: 0.2541 - accuracy: 0.8980 - val_loss: 0.0706 - val_accuracy: 0.9881\n",
            "Epoch 10/20\n",
            "19/19 [==============================] - 32s 2s/step - loss: 0.2761 - accuracy: 0.8997 - val_loss: 0.0473 - val_accuracy: 0.9881\n",
            "Epoch 11/20\n",
            "19/19 [==============================] - 32s 2s/step - loss: 0.2889 - accuracy: 0.9013 - val_loss: 0.0623 - val_accuracy: 0.9881\n",
            "Epoch 12/20\n",
            "19/19 [==============================] - 32s 2s/step - loss: 0.3520 - accuracy: 0.8880 - val_loss: 0.0261 - val_accuracy: 0.9881\n",
            "Epoch 13/20\n",
            "19/19 [==============================] - 33s 2s/step - loss: 0.2763 - accuracy: 0.8896 - val_loss: 0.0302 - val_accuracy: 1.0000\n",
            "Epoch 14/20\n",
            "19/19 [==============================] - 32s 2s/step - loss: 0.2413 - accuracy: 0.9080 - val_loss: 0.0342 - val_accuracy: 0.9881\n",
            "Epoch 15/20\n",
            "19/19 [==============================] - 32s 2s/step - loss: 0.2783 - accuracy: 0.9047 - val_loss: 0.0302 - val_accuracy: 0.9881\n",
            "Epoch 16/20\n",
            "19/19 [==============================] - 32s 2s/step - loss: 0.2523 - accuracy: 0.8997 - val_loss: 0.0712 - val_accuracy: 1.0000\n",
            "Epoch 17/20\n",
            "19/19 [==============================] - 33s 2s/step - loss: 0.2476 - accuracy: 0.9147 - val_loss: 0.0462 - val_accuracy: 0.9881\n",
            "Epoch 18/20\n",
            "19/19 [==============================] - 32s 2s/step - loss: 0.2664 - accuracy: 0.8946 - val_loss: 0.0326 - val_accuracy: 1.0000\n",
            "Epoch 19/20\n",
            "19/19 [==============================] - 33s 2s/step - loss: 0.2645 - accuracy: 0.9097 - val_loss: 0.0328 - val_accuracy: 1.0000\n",
            "Epoch 20/20\n",
            "19/19 [==============================] - 33s 2s/step - loss: 0.2639 - accuracy: 0.9030 - val_loss: 0.0215 - val_accuracy: 0.9881\n"
          ],
          "name": "stdout"
        }
      ]
    },
    {
      "cell_type": "code",
      "metadata": {
        "id": "BBU4PJk7xhVX",
        "colab_type": "code",
        "colab": {
          "base_uri": "https://localhost:8080/",
          "height": 296
        },
        "outputId": "d1c0d6b2-5dd6-4bca-88fe-f9e71bf052f2"
      },
      "source": [
        "plt.plot(r.history['loss'], label='train loss')\n",
        "plt.plot(r.history['val_loss'], label='val loss')\n",
        "plt.xlabel('epochs')\n",
        "plt.ylabel('loss')\n",
        "plt.legend()\n",
        "plt.show()\n",
        "\n",
        "plt.savefig('LossVal_loss')\n"
      ],
      "execution_count": null,
      "outputs": [
        {
          "output_type": "display_data",
          "data": {
            "image/png": "[encoded data removed]",
            "text/plain": [
              "<Figure size 432x288 with 1 Axes>"
            ]
          },
          "metadata": {
            "tags": [],
            "needs_background": "light"
          }
        },
        {
          "output_type": "display_data",
          "data": {
            "text/plain": [
              "<Figure size 432x288 with 0 Axes>"
            ]
          },
          "metadata": {
            "tags": []
          }
        }
      ]
    },
    {
      "cell_type": "code",
      "metadata": {
        "id": "o0wdf5ZSMFx5",
        "colab_type": "code",
        "colab": {
          "base_uri": "https://localhost:8080/",
          "height": 296
        },
        "outputId": "65950918-9a81-4b3e-f69d-a1304dc9c586"
      },
      "source": [
        "plt.plot(r.history['accuracy'], label='train acc')\n",
        "plt.plot(r.history['val_accuracy'], label='val acc')\n",
        "plt.xlabel('epochs')\n",
        "plt.ylabel('accuracy')\n",
        "plt.legend()\n",
        "plt.show()\n",
        "\n",
        "plt.savefig('AccVal_acc')\n"
      ],
      "execution_count": null,
      "outputs": [
        {
          "output_type": "display_data",
          "data": {
            "image/png": "[encoded data removed]",
            "text/plain": [
              "<Figure size 432x288 with 1 Axes>"
            ]
          },
          "metadata": {
            "tags": [],
            "needs_background": "light"
          }
        },
        {
          "output_type": "display_data",
          "data": {
            "text/plain": [
              "<Figure size 432x288 with 0 Axes>"
            ]
          },
          "metadata": {
            "tags": []
          }
        }
      ]
    }
  ]
}