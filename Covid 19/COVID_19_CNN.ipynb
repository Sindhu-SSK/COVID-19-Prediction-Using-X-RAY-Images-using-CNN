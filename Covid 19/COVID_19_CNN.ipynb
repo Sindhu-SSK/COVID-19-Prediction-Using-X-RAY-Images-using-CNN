{
  "nbformat": 4,
  "nbformat_minor": 0,
  "metadata": {
    "colab": {
      "name": "COVID-19_CNN.ipynb",
      "provenance": [],
      "collapsed_sections": [],
      "toc_visible": true
    },
    "kernelspec": {
      "name": "python3",
      "display_name": "Python 3"
    }
  },
  "cells": [
    {
      "cell_type": "code",
      "metadata": {
        "id": "BR5GCZFxR4AG",
        "colab_type": "code",
        "colab": {
          "base_uri": "https://localhost:8080/",
          "height": 67
        },
        "outputId": "06db4332-d785-44d5-e9ec-c52f699640be"
      },
      "source": [
        "import cv2,os\n",
        "\n",
        "data_path=\"/content/drive/My Drive/project/dataset\"\n",
        "categories=os.listdir(data_path)\n",
        "labels=[i for i in range(len(categories))]\n",
        "\n",
        "label_dict=dict(zip(categories,labels)) #empty dictionary\n",
        "\n",
        "print(label_dict)\n",
        "print('categories:',categories)\n",
        "print('labels:',labels)"
      ],
      "execution_count": null,
      "outputs": [
        {
          "output_type": "stream",
          "text": [
            "{'Covid19 Positive': 0, 'Covid19 Negative': 1}\n",
            "categories: ['Covid19 Positive', 'Covid19 Negative']\n",
            "labels: [0, 1]\n"
          ],
          "name": "stdout"
        }
      ]
    },
    {
      "cell_type": "code",
      "metadata": {
        "id": "O3ZWaZCUSOmy",
        "colab_type": "code",
        "colab": {}
      },
      "source": [
        "img_size=100\n",
        "data=[]\n",
        "target=[]\n",
        "\n",
        "\n",
        "for category in categories:\n",
        "    folder_path=os.path.join(data_path,category)\n",
        "    img_names=os.listdir(folder_path)\n",
        "        \n",
        "    for img_name in img_names:\n",
        "        img_path=os.path.join(folder_path,img_name)\n",
        "        img=cv2.imread(img_path)\n",
        "\n",
        "        try:\n",
        "            gray=cv2.cvtColor(img,cv2.COLOR_BGR2GRAY)           \n",
        "            #Coverting the image into gray scale\n",
        "            resized=cv2.resize(gray,(img_size,img_size))\n",
        "            #resizing the gray scale into 100x100, since we need a fixed common size for all the images in the dataset\n",
        "            data.append(resized)\n",
        "            target.append(label_dict[category])\n",
        "            #appending the image and the label(categorized) into the list (dataset)\n",
        "\n",
        "        except Exception as e:\n",
        "            print('Exception:',e)\n",
        "            #if any exception rasied, the exception will be printed here. And pass to the next image"
      ],
      "execution_count": null,
      "outputs": []
    },
    {
      "cell_type": "code",
      "metadata": {
        "id": "qwzhv64gSm3H",
        "colab_type": "code",
        "colab": {}
      },
      "source": [
        "import numpy as np\n",
        "\n",
        "data=np.array(data)/255.0\n",
        "data=np.reshape(data,(data.shape[0],img_size,img_size,1))\n",
        "target=np.array(target)\n",
        "\n",
        "from keras.utils import np_utils\n",
        "\n",
        "new_target=np_utils.to_categorical(target)"
      ],
      "execution_count": null,
      "outputs": []
    },
    {
      "cell_type": "code",
      "metadata": {
        "id": "TkAESeHKaB16",
        "colab_type": "code",
        "colab": {
          "base_uri": "https://localhost:8080/",
          "height": 622
        },
        "outputId": "340a4b25-8769-492e-c3de-4a40dc17e766"
      },
      "source": [
        "from keras.models import Sequential,Model\n",
        "from keras.layers import Dense, Dropout, Flatten\n",
        "from keras.layers import Conv2D,Activation,MaxPooling2D\n",
        "from keras.utils import normalize\n",
        "from keras.layers import Concatenate\n",
        "from keras import Input\n",
        "from keras.callbacks import ModelCheckpoint\n",
        "\n",
        "input_shape=data.shape[1:] #50,50,1\n",
        "inp=Input(shape=input_shape)\n",
        "convs=[]\n",
        "\n",
        "parrallel_kernels=[3,5,7]\n",
        "\n",
        "for k in range(len(parrallel_kernels)):\n",
        "\n",
        "    conv = Conv2D(128, parrallel_kernels[k],padding='same',activation='relu',input_shape=input_shape,strides=1)(inp)\n",
        "    convs.append(conv)\n",
        "\n",
        "out = Concatenate()(convs)\n",
        "conv_model = Model(inputs=inp, outputs=out)\n",
        "\n",
        "model = Sequential()\n",
        "model.add(conv_model)\n",
        "\n",
        "model.add(Conv2D(64,(3,3)))\n",
        "model.add(Activation('relu'))\n",
        "model.add(MaxPooling2D(pool_size=(2,2)))\n",
        "\n",
        "model.add(Conv2D(32,(3,3)))\n",
        "model.add(Activation('relu'))\n",
        "model.add(MaxPooling2D(pool_size=(2,2)))\n",
        "\n",
        "model.add(Flatten())\n",
        "model.add(Dropout(0.5))\n",
        "model.add(Dense(128,activation='relu'))\n",
        "model.add(Dropout(0.5))\n",
        "model.add(Dense(64,activation='relu'))\n",
        "model.add(Dropout(0.5))\n",
        "model.add(Dense(2,input_dim=128,activation='softmax'))\n",
        "model.compile(loss='categorical_crossentropy',optimizer='adam',metrics=['accuracy'])\n",
        "\n",
        "model.summary()"
      ],
      "execution_count": null,
      "outputs": [
        {
          "output_type": "stream",
          "text": [
            "Model: \"sequential\"\n",
            "_________________________________________________________________\n",
            "Layer (type)                 Output Shape              Param #   \n",
            "=================================================================\n",
            "functional_1 (Functional)    (None, 100, 100, 384)     11008     \n",
            "_________________________________________________________________\n",
            "conv2d_3 (Conv2D)            (None, 98, 98, 64)        221248    \n",
            "_________________________________________________________________\n",
            "activation (Activation)      (None, 98, 98, 64)        0         \n",
            "_________________________________________________________________\n",
            "max_pooling2d (MaxPooling2D) (None, 49, 49, 64)        0         \n",
            "_________________________________________________________________\n",
            "conv2d_4 (Conv2D)            (None, 47, 47, 32)        18464     \n",
            "_________________________________________________________________\n",
            "activation_1 (Activation)    (None, 47, 47, 32)        0         \n",
            "_________________________________________________________________\n",
            "max_pooling2d_1 (MaxPooling2 (None, 23, 23, 32)        0         \n",
            "_________________________________________________________________\n",
            "flatten (Flatten)            (None, 16928)             0         \n",
            "_________________________________________________________________\n",
            "dropout (Dropout)            (None, 16928)             0         \n",
            "_________________________________________________________________\n",
            "dense (Dense)                (None, 128)               2166912   \n",
            "_________________________________________________________________\n",
            "dropout_1 (Dropout)          (None, 128)               0         \n",
            "_________________________________________________________________\n",
            "dense_1 (Dense)              (None, 64)                8256      \n",
            "_________________________________________________________________\n",
            "dropout_2 (Dropout)          (None, 64)                0         \n",
            "_________________________________________________________________\n",
            "dense_2 (Dense)              (None, 2)                 130       \n",
            "=================================================================\n",
            "Total params: 2,426,018\n",
            "Trainable params: 2,426,018\n",
            "Non-trainable params: 0\n",
            "_________________________________________________________________\n"
          ],
          "name": "stdout"
        }
      ]
    },
    {
      "cell_type": "code",
      "metadata": {
        "id": "vHdbEaiVaNU7",
        "colab_type": "code",
        "colab": {}
      },
      "source": [
        "from sklearn.model_selection import train_test_split\n",
        "\n",
        "X=data\n",
        "y=new_target\n",
        "X_train,X_test,y_train,y_test=train_test_split(X,y,test_size=0.1,random_state=42)"
      ],
      "execution_count": null,
      "outputs": []
    },
    {
      "cell_type": "code",
      "metadata": {
        "id": "ph4nAoJ-erVL",
        "colab_type": "code",
        "colab": {
          "base_uri": "https://localhost:8080/",
          "height": 1000
        },
        "outputId": "c907bafd-ef41-48df-c700-2998dfe475ab"
      },
      "source": [
        "checkpoint = ModelCheckpoint('model-{epoch:03d}.model',monitor='val_loss',verbose=0,save_best_only=True,mode='auto')\n",
        "history=model.fit(X_train,y_train,epochs=20,callbacks=[checkpoint],validation_split=0.1)"
      ],
      "execution_count": null,
      "outputs": [
        {
          "output_type": "stream",
          "text": [
            "Epoch 1/20\n",
            " 2/18 [==>...........................] - ETA: 0s - loss: 0.8844 - accuracy: 0.6094WARNING:tensorflow:Callbacks method `on_train_batch_end` is slow compared to the batch time (batch time: 0.0414s vs `on_train_batch_end` time: 0.0670s). Check your callbacks.\n",
            "18/18 [==============================] - ETA: 0s - loss: 0.6279 - accuracy: 0.7278WARNING:tensorflow:From /usr/local/lib/python3.6/dist-packages/tensorflow/python/training/tracking/tracking.py:111: Model.state_updates (from tensorflow.python.keras.engine.training) is deprecated and will be removed in a future version.\n",
            "Instructions for updating:\n",
            "This property should not be used in TensorFlow 2.0, as updates are applied automatically.\n",
            "WARNING:tensorflow:From /usr/local/lib/python3.6/dist-packages/tensorflow/python/training/tracking/tracking.py:111: Layer.updates (from tensorflow.python.keras.engine.base_layer) is deprecated and will be removed in a future version.\n",
            "Instructions for updating:\n",
            "This property should not be used in TensorFlow 2.0, as updates are applied automatically.\n",
            "INFO:tensorflow:Assets written to: model-001.model/assets\n",
            "18/18 [==============================] - 5s 257ms/step - loss: 0.6279 - accuracy: 0.7278 - val_loss: 0.5226 - val_accuracy: 0.8226\n",
            "Epoch 2/20\n",
            "17/18 [===========================>..] - ETA: 0s - loss: 0.5295 - accuracy: 0.7794INFO:tensorflow:Assets written to: model-002.model/assets\n",
            "18/18 [==============================] - 3s 194ms/step - loss: 0.5301 - accuracy: 0.7786 - val_loss: 0.4477 - val_accuracy: 0.8226\n",
            "Epoch 3/20\n",
            "18/18 [==============================] - 2s 105ms/step - loss: 0.5006 - accuracy: 0.7877 - val_loss: 0.4490 - val_accuracy: 0.9194\n",
            "Epoch 4/20\n",
            "17/18 [===========================>..] - ETA: 0s - loss: 0.4469 - accuracy: 0.8180INFO:tensorflow:Assets written to: model-004.model/assets\n",
            "18/18 [==============================] - 3s 192ms/step - loss: 0.4452 - accuracy: 0.8185 - val_loss: 0.4424 - val_accuracy: 0.9032\n",
            "Epoch 5/20\n",
            "17/18 [===========================>..] - ETA: 0s - loss: 0.4419 - accuracy: 0.8493INFO:tensorflow:Assets written to: model-005.model/assets\n",
            "18/18 [==============================] - 4s 203ms/step - loss: 0.4416 - accuracy: 0.8494 - val_loss: 0.4279 - val_accuracy: 0.9194\n",
            "Epoch 6/20\n",
            "17/18 [===========================>..] - ETA: 0s - loss: 0.4079 - accuracy: 0.8456INFO:tensorflow:Assets written to: model-006.model/assets\n",
            "18/18 [==============================] - 4s 195ms/step - loss: 0.4068 - accuracy: 0.8457 - val_loss: 0.3847 - val_accuracy: 0.9194\n",
            "Epoch 7/20\n",
            "18/18 [==============================] - 2s 105ms/step - loss: 0.4266 - accuracy: 0.8385 - val_loss: 0.4668 - val_accuracy: 0.8226\n",
            "Epoch 8/20\n",
            "18/18 [==============================] - 2s 105ms/step - loss: 0.3900 - accuracy: 0.8730 - val_loss: 0.3894 - val_accuracy: 0.8871\n",
            "Epoch 9/20\n",
            "17/18 [===========================>..] - ETA: 0s - loss: 0.3949 - accuracy: 0.8713INFO:tensorflow:Assets written to: model-009.model/assets\n",
            "18/18 [==============================] - 4s 202ms/step - loss: 0.3961 - accuracy: 0.8711 - val_loss: 0.3778 - val_accuracy: 0.9194\n",
            "Epoch 10/20\n",
            "18/18 [==============================] - 2s 107ms/step - loss: 0.3715 - accuracy: 0.8766 - val_loss: 0.3905 - val_accuracy: 0.8871\n",
            "Epoch 11/20\n",
            "18/18 [==============================] - 2s 106ms/step - loss: 0.3656 - accuracy: 0.8857 - val_loss: 0.3803 - val_accuracy: 0.9194\n",
            "Epoch 12/20\n",
            "17/18 [===========================>..] - ETA: 0s - loss: 0.3477 - accuracy: 0.8915INFO:tensorflow:Assets written to: model-012.model/assets\n",
            "18/18 [==============================] - 3s 194ms/step - loss: 0.3476 - accuracy: 0.8911 - val_loss: 0.3467 - val_accuracy: 0.9194\n",
            "Epoch 13/20\n",
            "17/18 [===========================>..] - ETA: 0s - loss: 0.3407 - accuracy: 0.8879INFO:tensorflow:Assets written to: model-013.model/assets\n",
            "18/18 [==============================] - 4s 202ms/step - loss: 0.3380 - accuracy: 0.8893 - val_loss: 0.3441 - val_accuracy: 0.9194\n",
            "Epoch 14/20\n",
            "18/18 [==============================] - 2s 106ms/step - loss: 0.3459 - accuracy: 0.8893 - val_loss: 0.3597 - val_accuracy: 0.9032\n",
            "Epoch 15/20\n",
            "18/18 [==============================] - 2s 106ms/step - loss: 0.3302 - accuracy: 0.8893 - val_loss: 0.3682 - val_accuracy: 0.8871\n",
            "Epoch 16/20\n",
            "17/18 [===========================>..] - ETA: 0s - loss: 0.3278 - accuracy: 0.8915INFO:tensorflow:Assets written to: model-016.model/assets\n",
            "18/18 [==============================] - 3s 194ms/step - loss: 0.3251 - accuracy: 0.8929 - val_loss: 0.3310 - val_accuracy: 0.9194\n",
            "Epoch 17/20\n",
            "17/18 [===========================>..] - ETA: 0s - loss: 0.2880 - accuracy: 0.9026INFO:tensorflow:Assets written to: model-017.model/assets\n",
            "18/18 [==============================] - 4s 205ms/step - loss: 0.2866 - accuracy: 0.9020 - val_loss: 0.3280 - val_accuracy: 0.9194\n",
            "Epoch 18/20\n",
            "17/18 [===========================>..] - ETA: 0s - loss: 0.3026 - accuracy: 0.8952INFO:tensorflow:Assets written to: model-018.model/assets\n",
            "18/18 [==============================] - 3s 192ms/step - loss: 0.2994 - accuracy: 0.8966 - val_loss: 0.3086 - val_accuracy: 0.9194\n",
            "Epoch 19/20\n",
            "18/18 [==============================] - 2s 106ms/step - loss: 0.2907 - accuracy: 0.8929 - val_loss: 0.3191 - val_accuracy: 0.9194\n",
            "Epoch 20/20\n",
            "18/18 [==============================] - 2s 106ms/step - loss: 0.2738 - accuracy: 0.9020 - val_loss: 0.3296 - val_accuracy: 0.9032\n"
          ],
          "name": "stdout"
        }
      ]
    },
    {
      "cell_type": "code",
      "metadata": {
        "id": "lIy0aKUGF0Yg",
        "colab_type": "code",
        "colab": {
          "base_uri": "https://localhost:8080/",
          "height": 279
        },
        "outputId": "7d2a7420-e22f-4d55-afad-f6c928490426"
      },
      "source": [
        "from matplotlib import pyplot as plt\n",
        "\n",
        "plt.plot(history.history['loss'],'r',label='training loss')\n",
        "plt.plot(history.history['val_loss'],label='validation loss')\n",
        "plt.xlabel('epochs')\n",
        "plt.ylabel('loss')\n",
        "plt.legend()\n",
        "plt.show()"
      ],
      "execution_count": null,
      "outputs": [
        {
          "output_type": "display_data",
          "data": {
            "image/png": "[encoded data removed]",
            "text/plain": [
              "<Figure size 432x288 with 1 Axes>"
            ]
          },
          "metadata": {
            "tags": [],
            "needs_background": "light"
          }
        }
      ]
    },
    {
      "cell_type": "code",
      "metadata": {
        "id": "0jOH0jDaGA7R",
        "colab_type": "code",
        "colab": {
          "base_uri": "https://localhost:8080/",
          "height": 279
        },
        "outputId": "0d34f1e1-0fb5-4e6e-c3cb-6880628ce6c1"
      },
      "source": [
        "plt.plot(history.history['accuracy'],'r',label='training accuracy')\n",
        "plt.plot(history.history['val_accuracy'],label='validation accuracy')\n",
        "plt.xlabel('epochs')\n",
        "plt.ylabel('accuracy')\n",
        "plt.legend()\n",
        "plt.show()"
      ],
      "execution_count": null,
      "outputs": [
        {
          "output_type": "display_data",
          "data": {
            "image/png": "[encoded data removed]",
            "text/plain": [
              "<Figure size 432x288 with 1 Axes>"
            ]
          },
          "metadata": {
            "tags": [],
            "needs_background": "light"
          }
        }
      ]
    },
    {
      "cell_type": "code",
      "metadata": {
        "id": "11edIPNCGIML",
        "colab_type": "code",
        "colab": {
          "base_uri": "https://localhost:8080/",
          "height": 50
        },
        "outputId": "9d202516-4b88-41f3-f117-43b829be3d22"
      },
      "source": [
        "print(model.evaluate(X_test,y_test))"
      ],
      "execution_count": null,
      "outputs": [
        {
          "output_type": "stream",
          "text": [
            "3/3 [==============================] - 0s 83ms/step - loss: 0.2446 - accuracy: 0.9420\n",
            "[0.2445603758096695, 0.9420289993286133]\n"
          ],
          "name": "stdout"
        }
      ]
    },
    {
      "cell_type": "code",
      "metadata": {
        "id": "ShEx9P4LGSFB",
        "colab_type": "code",
        "colab": {}
      },
      "source": [
        ""
      ],
      "execution_count": null,
      "outputs": []
    }
  ]
}